{
 "cells": [
  {
   "cell_type": "markdown",
   "metadata": {},
   "source": [
    "## Import libraries "
   ]
  },
  {
   "cell_type": "code",
   "execution_count": 1,
   "metadata": {},
   "outputs": [],
   "source": [
    "import numpy as np\n",
    "import pandas as pd\n",
    "import tensorflow as tf\n",
    "import pickle\n",
    "import matplotlib.pyplot as plt\n",
    "from sklearn.model_selection import train_test_split\n",
    "from tensorflow.keras.layers import Embedding, Dense, Dropout, Bidirectional, LSTM, Input, GlobalAveragePooling1D, Flatten, GRU, LayerNormalization, Convolution1D, Lambda, MaxPooling1D, Conv1D, Dropout, GlobalMaxPooling1D\n",
    "from tensorflow.keras.optimizers import Adam, SGD\n",
    "from tensorflow.keras.models import load_model\n",
    "from tensorflow.keras import Sequential\n",
    "from tensorflow.keras.preprocessing.text import Tokenizer\n",
    "from tensorflow.keras.preprocessing.sequence import pad_sequences\n",
    "from pyvi import ViTokenizer\n",
    "from pyvi import ViUtils\n",
    "from gensim.models import Word2Vec\n",
    "from sklearn.feature_extraction.text import TfidfVectorizer\n",
    "from collections import Counter\n",
    "from string import punctuation\n",
    "from keras.preprocessing.text import Tokenizer\n",
    "import gensim.models.keyedvectors as word2vec\n",
    "import seaborn as sns"
   ]
  },
  {
   "cell_type": "markdown",
   "metadata": {},
   "source": [
    "## Load data"
   ]
  },
  {
   "cell_type": "code",
   "execution_count": 12,
   "metadata": {},
   "outputs": [
    {
     "data": {
      "text/html": [
       "<div>\n",
       "<style scoped>\n",
       "    .dataframe tbody tr th:only-of-type {\n",
       "        vertical-align: middle;\n",
       "    }\n",
       "\n",
       "    .dataframe tbody tr th {\n",
       "        vertical-align: top;\n",
       "    }\n",
       "\n",
       "    .dataframe thead th {\n",
       "        text-align: right;\n",
       "    }\n",
       "</style>\n",
       "<table border=\"1\" class=\"dataframe\">\n",
       "  <thead>\n",
       "    <tr style=\"text-align: right;\">\n",
       "      <th></th>\n",
       "      <th>comment</th>\n",
       "      <th>sentiment</th>\n",
       "      <th>rate</th>\n",
       "    </tr>\n",
       "  </thead>\n",
       "  <tbody>\n",
       "    <tr>\n",
       "      <th>0</th>\n",
       "      <td>Áo bao đẹp ạ!!</td>\n",
       "      <td>positive</td>\n",
       "      <td>5.0</td>\n",
       "    </tr>\n",
       "    <tr>\n",
       "      <th>1</th>\n",
       "      <td>Tuyệt vời !</td>\n",
       "      <td>positive</td>\n",
       "      <td>5.0</td>\n",
       "    </tr>\n",
       "    <tr>\n",
       "      <th>2</th>\n",
       "      <td>2day ao khong giong trong.</td>\n",
       "      <td>negative</td>\n",
       "      <td>1.0</td>\n",
       "    </tr>\n",
       "    <tr>\n",
       "      <th>3</th>\n",
       "      <td>Mùi thơm,bôi lên da mềm da.</td>\n",
       "      <td>positive</td>\n",
       "      <td>5.0</td>\n",
       "    </tr>\n",
       "    <tr>\n",
       "      <th>4</th>\n",
       "      <td>Vải đẹp, dày dặn.</td>\n",
       "      <td>positive</td>\n",
       "      <td>5.0</td>\n",
       "    </tr>\n",
       "  </tbody>\n",
       "</table>\n",
       "</div>"
      ],
      "text/plain": [
       "                       comment sentiment  rate\n",
       "0               Áo bao đẹp ạ!!  positive   5.0\n",
       "1                  Tuyệt vời !  positive   5.0\n",
       "2   2day ao khong giong trong.  negative   1.0\n",
       "3  Mùi thơm,bôi lên da mềm da.  positive   5.0\n",
       "4            Vải đẹp, dày dặn.  positive   5.0"
      ]
     },
     "execution_count": 12,
     "metadata": {},
     "output_type": "execute_result"
    }
   ],
   "source": [
    "data = pd.read_csv('./data/data.csv')\n",
    "data.head()"
   ]
  },
  {
   "cell_type": "code",
   "execution_count": 14,
   "metadata": {},
   "outputs": [
    {
     "name": "stdout",
     "output_type": "stream",
     "text": [
      "<class 'pandas.core.frame.DataFrame'>\n",
      "RangeIndex: 37373 entries, 0 to 37372\n",
      "Data columns (total 3 columns):\n",
      " #   Column     Non-Null Count  Dtype  \n",
      "---  ------     --------------  -----  \n",
      " 0   comment    37373 non-null  object \n",
      " 1   sentiment  37373 non-null  object \n",
      " 2   rate       37373 non-null  float64\n",
      "dtypes: float64(1), object(2)\n",
      "memory usage: 876.1+ KB\n"
     ]
    }
   ],
   "source": [
    "data.info()"
   ]
  },
  {
   "cell_type": "code",
   "execution_count": 6,
   "metadata": {},
   "outputs": [
    {
     "data": {
      "text/plain": [
       "(37373, 3)"
      ]
     },
     "execution_count": 6,
     "metadata": {},
     "output_type": "execute_result"
    }
   ],
   "source": [
    "data.shape"
   ]
  },
  {
   "cell_type": "code",
   "execution_count": 4,
   "metadata": {},
   "outputs": [
    {
     "data": {
      "image/png": "[encoded data removed]",
      "text/plain": [
       "<Figure size 640x480 with 1 Axes>"
      ]
     },
     "metadata": {},
     "output_type": "display_data"
    }
   ],
   "source": [
    "sns.countplot(x = 'sentiment', data = data).set(title=\"Sentiment distribution\", xlabel=\"sentiment\", ylabel=\"sentiment count\")\n",
    "plt.show()"
   ]
  },
  {
   "cell_type": "markdown",
   "metadata": {},
   "source": [
    "## Create Input Label"
   ]
  },
  {
   "cell_type": "code",
   "execution_count": 17,
   "metadata": {},
   "outputs": [
    {
     "data": {
      "text/html": [
       "<div>\n",
       "<style scoped>\n",
       "    .dataframe tbody tr th:only-of-type {\n",
       "        vertical-align: middle;\n",
       "    }\n",
       "\n",
       "    .dataframe tbody tr th {\n",
       "        vertical-align: top;\n",
       "    }\n",
       "\n",
       "    .dataframe thead th {\n",
       "        text-align: right;\n",
       "    }\n",
       "</style>\n",
       "<table border=\"1\" class=\"dataframe\">\n",
       "  <thead>\n",
       "    <tr style=\"text-align: right;\">\n",
       "      <th></th>\n",
       "      <th>input</th>\n",
       "      <th>label</th>\n",
       "    </tr>\n",
       "  </thead>\n",
       "  <tbody>\n",
       "    <tr>\n",
       "      <th>0</th>\n",
       "      <td>Áo bao đẹp ạ!!</td>\n",
       "      <td>positive</td>\n",
       "    </tr>\n",
       "    <tr>\n",
       "      <th>1</th>\n",
       "      <td>Tuyệt vời !</td>\n",
       "      <td>positive</td>\n",
       "    </tr>\n",
       "    <tr>\n",
       "      <th>2</th>\n",
       "      <td>2day ao khong giong trong.</td>\n",
       "      <td>negative</td>\n",
       "    </tr>\n",
       "    <tr>\n",
       "      <th>3</th>\n",
       "      <td>Mùi thơm,bôi lên da mềm da.</td>\n",
       "      <td>positive</td>\n",
       "    </tr>\n",
       "    <tr>\n",
       "      <th>4</th>\n",
       "      <td>Vải đẹp, dày dặn.</td>\n",
       "      <td>positive</td>\n",
       "    </tr>\n",
       "  </tbody>\n",
       "</table>\n",
       "</div>"
      ],
      "text/plain": [
       "                         input     label\n",
       "0               Áo bao đẹp ạ!!  positive\n",
       "1                  Tuyệt vời !  positive\n",
       "2   2day ao khong giong trong.  negative\n",
       "3  Mùi thơm,bôi lên da mềm da.  positive\n",
       "4            Vải đẹp, dày dặn.  positive"
      ]
     },
     "execution_count": 17,
     "metadata": {},
     "output_type": "execute_result"
    }
   ],
   "source": [
    "sentiment_data = pd.DataFrame({'input': data['comment'], 'label': data['sentiment']})\n",
    "sentiment_data = sentiment_data.dropna()\n",
    "sentiment_data = sentiment_data.reset_index(drop = True)\n",
    "sentiment_data.head()"
   ]
  },
  {
   "cell_type": "code",
   "execution_count": 6,
   "metadata": {},
   "outputs": [
    {
     "data": {
      "text/plain": [
       "(37373, 2)"
      ]
     },
     "execution_count": 6,
     "metadata": {},
     "output_type": "execute_result"
    }
   ],
   "source": [
    "sentiment_data.shape"
   ]
  },
  {
   "cell_type": "code",
   "execution_count": 7,
   "metadata": {},
   "outputs": [],
   "source": [
    "# X_train , X_val, y_train, y_val = train_test_split(data['comment'], data['label'], test_size = 0.2, random_state = 42)\n",
    "# X_train , X_test, y_train, y_test = train_test_split(X_train, y_train, test_size = 0.1, random_state = 42)\n",
    "# print('train sample: ', len(X_train))\n",
    "# print('val sample: ', len(X_val))\n",
    "# print('test sample: ', len(X_test))"
   ]
  },
  {
   "cell_type": "markdown",
   "metadata": {},
   "source": [
    "## Preprocessing"
   ]
  },
  {
   "cell_type": "code",
   "execution_count": 18,
   "metadata": {},
   "outputs": [],
   "source": [
    "input_data = sentiment_data['input'].values\n",
    "input_label = sentiment_data['label'].values\n",
    "\n",
    "label_dict = {'negative': -1, 'neutral': 0, 'positive': 1 }"
   ]
  },
  {
   "cell_type": "code",
   "execution_count": 19,
   "metadata": {},
   "outputs": [],
   "source": [
    "input_pre = []\n",
    "label = []\n",
    "for idx, dt in enumerate(input_data):\n",
    "    input_text_pre = list(tf.keras.preprocessing.text.text_to_word_sequence(dt))\n",
    "    input_text_pre = \" \".join(input_text_pre)\n",
    "    input_text_pre = ViTokenizer.tokenize(input_text_pre)\n",
    "    input_pre.append(input_text_pre)\n",
    "    label.append(input_label[idx])\n"
   ]
  },
  {
   "cell_type": "code",
   "execution_count": 12,
   "metadata": {},
   "outputs": [
    {
     "data": {
      "text/plain": [
       "['áo bao đẹp ạ',\n",
       " 'tuyệt_vời',\n",
       " '2day ao khong giong trong',\n",
       " 'mùi thơm bôi lên da mềm da',\n",
       " 'vải đẹp dày_dặn',\n",
       " 'hàng rất đẹp rất chi là ưng_ý',\n",
       " 'chất_lượng sản_phẩm tốt date dài',\n",
       " 'ăn_nói và thái_độ phục_vụ tốt',\n",
       " 'đóng_gói sản_phẩm chắc_chắn',\n",
       " 'tất sờn hết ca chưa dùng mà vay r']"
      ]
     },
     "execution_count": 12,
     "metadata": {},
     "output_type": "execute_result"
    }
   ],
   "source": [
    "input_pre[:10]"
   ]
  },
  {
   "cell_type": "code",
   "execution_count": 20,
   "metadata": {},
   "outputs": [],
   "source": [
    "stop_word = []\n",
    "with open(\"./data/vietnamese-stopwords.txt\",encoding=\"utf-8\") as f:\n",
    "  text = f.read()\n",
    "  for word in text.split() :\n",
    "      stop_word.append(word)\n",
    "  f.close()\n",
    "punc = list(punctuation)\n",
    "stop_word = stop_word + punc"
   ]
  },
  {
   "cell_type": "code",
   "execution_count": 16,
   "metadata": {},
   "outputs": [
    {
     "data": {
      "text/plain": [
       "['a', 'lô', 'a', 'ha', 'ai', 'ai', 'ai', 'ai', 'nấy', 'ai']"
      ]
     },
     "execution_count": 16,
     "metadata": {},
     "output_type": "execute_result"
    }
   ],
   "source": [
    "stop_word[:10]"
   ]
  },
  {
   "cell_type": "code",
   "execution_count": 21,
   "metadata": {},
   "outputs": [],
   "source": [
    "sentences = []\n",
    "for i in input_pre:\n",
    "  sent = []\n",
    "  for word in i.split(\" \") :\n",
    "          if (word not in stop_word) :\n",
    "              if (\"_\" in word) or (word.isalpha() == True):\n",
    "                  sent.append(word)\n",
    "  sentences.append(\" \".join(sent)) "
   ]
  },
  {
   "cell_type": "code",
   "execution_count": 253,
   "metadata": {},
   "outputs": [
    {
     "data": {
      "text/plain": [
       "['áo đẹp',\n",
       " 'tuyệt_vời',\n",
       " 'ao khong giong',\n",
       " 'mùi thơm bôi mềm',\n",
       " 'vải đẹp dày_dặn',\n",
       " 'hàng đẹp ưng_ý',\n",
       " 'chất_lượng sản_phẩm date',\n",
       " 'ăn_nói thái_độ phục_vụ',\n",
       " 'đóng_gói sản_phẩm chắc_chắn',\n",
       " 'sờn ca vay r']"
      ]
     },
     "execution_count": 253,
     "metadata": {},
     "output_type": "execute_result"
    }
   ],
   "source": [
    "sentences[:10]"
   ]
  },
  {
   "cell_type": "code",
   "execution_count": 18,
   "metadata": {},
   "outputs": [
    {
     "data": {
      "text/plain": [
       "list"
      ]
     },
     "execution_count": 18,
     "metadata": {},
     "output_type": "execute_result"
    }
   ],
   "source": [
    "type(sentences)"
   ]
  },
  {
   "cell_type": "code",
   "execution_count": 22,
   "metadata": {},
   "outputs": [
    {
     "data": {
      "text/plain": [
       "<function matplotlib.pyplot.show(close=None, block=None)>"
      ]
     },
     "execution_count": 22,
     "metadata": {},
     "output_type": "execute_result"
    },
    {
     "data": {
      "image/png": "[encoded data removed]",
      "text/plain": [
       "<Figure size 640x480 with 1 Axes>"
      ]
     },
     "metadata": {},
     "output_type": "display_data"
    }
   ],
   "source": [
    "seq_len = [len(i.split()) for i in sentiment_data['input']]\n",
    "pd.Series(seq_len).hist(bins = 10)\n",
    "plt.show"
   ]
  },
  {
   "cell_type": "code",
   "execution_count": 23,
   "metadata": {},
   "outputs": [
    {
     "name": "stdout",
     "output_type": "stream",
     "text": [
      "input data shape (37373, 200)\n",
      "label data shape (37373, 3)\n",
      "data vocab size 14846\n"
     ]
    }
   ],
   "source": [
    "Y = pd.get_dummies(sentiment_data['label']).values\n",
    "\n",
    "tokenizer = Tokenizer(oov_token = '<OOV>', filters = '', split = ' ')\n",
    "tokenizer.fit_on_texts(sentences)\n",
    "\n",
    "tokenized_data = tokenizer.texts_to_sequences(sentences)\n",
    "X = pad_sequences(tokenized_data, padding = 'post', maxlen = 200)\n",
    "pickle.dump(tokenizer, open('tokenizer.pkl', 'wb'))\n",
    "\n",
    "print('input data shape', X.shape)\n",
    "print('label data shape', Y.shape)\n",
    "vocab_size = len(tokenizer.word_index) + 1\n",
    "print('data vocab size', vocab_size)"
   ]
  },
  {
   "cell_type": "code",
   "execution_count": 24,
   "metadata": {},
   "outputs": [
    {
     "data": {
      "text/plain": [
       "array([[ 10,   2,   0, ...,   0,   0,   0],\n",
       "       [ 13,   0,   0, ...,   0,   0,   0],\n",
       "       [276, 705, 804, ...,   0,   0,   0],\n",
       "       ...,\n",
       "       [ 66,  11,   8, ...,   0,   0,   0],\n",
       "       [450, 594, 993, ...,   0,   0,   0],\n",
       "       [ 36,  74,  24, ...,   0,   0,   0]])"
      ]
     },
     "execution_count": 24,
     "metadata": {},
     "output_type": "execute_result"
    }
   ],
   "source": [
    "X"
   ]
  },
  {
   "cell_type": "code",
   "execution_count": 25,
   "metadata": {},
   "outputs": [],
   "source": [
    "input_gensim = []\n",
    "for s in sentences:\n",
    "    input_gensim.append(s.split())\n",
    "    \n",
    "w2v = Word2Vec(input_gensim, vector_size = 200)\n",
    "w2v.wv.save(\"./model/w2v.model\")"
   ]
  },
  {
   "cell_type": "code",
   "execution_count": 26,
   "metadata": {},
   "outputs": [],
   "source": [
    "model_embedding = word2vec.KeyedVectors.load('./model/w2v.model')"
   ]
  },
  {
   "cell_type": "code",
   "execution_count": 27,
   "metadata": {},
   "outputs": [
    {
     "name": "stdout",
     "output_type": "stream",
     "text": [
      "4297 word vectors.\n"
     ]
    }
   ],
   "source": [
    "embeddings_index = {}\n",
    "m1 = model_embedding\n",
    "m3 = m1.key_to_index\n",
    "f_words = [i for i,j in m3.items()]\n",
    "for aword in f_words:\n",
    "    embeddings_index[aword] = np.asarray(m1.get_vector(aword), dtype='float32')\n",
    "print('%s word vectors.' % len(embeddings_index))"
   ]
  },
  {
   "cell_type": "code",
   "execution_count": 28,
   "metadata": {},
   "outputs": [],
   "source": [
    "num_words = vocab_size\n",
    "embedding_dim = 200\n",
    "embedding_matrix = np.zeros((num_words, embedding_dim))\n",
    "for word, i in tokenizer.word_index.items():\n",
    "    if i >= num_words:\n",
    "        continue\n",
    "    embedding_vector = embeddings_index.get(word)\n",
    "    if embedding_vector is not None:\n",
    "        embedding_matrix[i] = embedding_vector"
   ]
  },
  {
   "cell_type": "markdown",
   "metadata": {},
   "source": [
    "## Split data"
   ]
  },
  {
   "cell_type": "code",
   "execution_count": 29,
   "metadata": {},
   "outputs": [
    {
     "name": "stdout",
     "output_type": "stream",
     "text": [
      "train sample:  26908\n",
      "val sample:  7475\n",
      "test sample:  2990\n"
     ]
    }
   ],
   "source": [
    "X_train , X_val, y_train, y_val = train_test_split(X, Y, test_size = 0.2, random_state = 42)\n",
    "X_train , X_test, y_train, y_test = train_test_split(X_train, y_train, test_size = 0.1, random_state = 42)\n",
    "print('train sample: ', len(X_train))\n",
    "print('val sample: ',len(X_val))\n",
    "print('test sample: ', len(X_test))"
   ]
  },
  {
   "cell_type": "markdown",
   "metadata": {},
   "source": [
    "## Create model"
   ]
  },
  {
   "cell_type": "code",
   "execution_count": 30,
   "metadata": {},
   "outputs": [],
   "source": [
    "input_dim = num_words\n",
    "output_dim = embedding_dim\n",
    "input_lenght = 200\n",
    "weights = [embedding_matrix]\n",
    "e = Embedding(input_dim = input_dim, output_dim = output_dim, weights = weights, input_length = input_lenght, trainable = True)"
   ]
  },
  {
   "cell_type": "code",
   "execution_count": 31,
   "metadata": {},
   "outputs": [],
   "source": [
    "def model_CNN():\n",
    "    model = Sequential()\n",
    "    model.add(e)\n",
    "    model.add(Conv1D(128, 7, activation='relu',padding='same'))\n",
    "    model.add(MaxPooling1D())\n",
    "    model.add(Conv1D(256, 5, activation='relu',padding='same'))\n",
    "    model.add(MaxPooling1D())\n",
    "    model.add(Conv1D(512, 3, activation='relu',padding='same'))\n",
    "    model.add(MaxPooling1D())\n",
    "    model.add(Flatten())\n",
    "    model.add(Dense(128, activation='relu'))\n",
    "    model.add(Dropout(0.5))\n",
    "    model.add(Dense(3, activation='sigmoid'))\n",
    "    model.compile(optimizer='adam',\n",
    "                loss='binary_crossentropy',\n",
    "                metrics=['accuracy'])\n",
    "    return model"
   ]
  },
  {
   "cell_type": "code",
   "execution_count": 32,
   "metadata": {},
   "outputs": [
    {
     "name": "stdout",
     "output_type": "stream",
     "text": [
      "Model: \"sequential\"\n",
      "_________________________________________________________________\n",
      " Layer (type)                Output Shape              Param #   \n",
      "=================================================================\n",
      " embedding (Embedding)       (None, 200, 200)          2969200   \n",
      "                                                                 \n",
      " conv1d (Conv1D)             (None, 200, 128)          179328    \n",
      "                                                                 \n",
      " max_pooling1d (MaxPooling1D  (None, 100, 128)         0         \n",
      " )                                                               \n",
      "                                                                 \n",
      " conv1d_1 (Conv1D)           (None, 100, 256)          164096    \n",
      "                                                                 \n",
      " max_pooling1d_1 (MaxPooling  (None, 50, 256)          0         \n",
      " 1D)                                                             \n",
      "                                                                 \n",
      " conv1d_2 (Conv1D)           (None, 50, 512)           393728    \n",
      "                                                                 \n",
      " max_pooling1d_2 (MaxPooling  (None, 25, 512)          0         \n",
      " 1D)                                                             \n",
      "                                                                 \n",
      " flatten (Flatten)           (None, 12800)             0         \n",
      "                                                                 \n",
      " dense (Dense)               (None, 128)               1638528   \n",
      "                                                                 \n",
      " dropout (Dropout)           (None, 128)               0         \n",
      "                                                                 \n",
      " dense_1 (Dense)             (None, 3)                 387       \n",
      "                                                                 \n",
      "=================================================================\n",
      "Total params: 5,345,267\n",
      "Trainable params: 5,345,267\n",
      "Non-trainable params: 0\n",
      "_________________________________________________________________\n"
     ]
    }
   ],
   "source": [
    "model_cnn = model_CNN()\n",
    "model_cnn.summary()"
   ]
  },
  {
   "cell_type": "code",
   "execution_count": 33,
   "metadata": {},
   "outputs": [],
   "source": [
    "def model_LSTM():\n",
    "    model = Sequential()\n",
    "    model.add(e)\n",
    "    model.add(LSTM(embedding_dim))\n",
    "    model.add(Dense(128, activation='relu'))\n",
    "    model.add(Dense(3, activation='sigmoid'))\n",
    "    model.compile(loss='binary_crossentropy', optimizer='adam',metrics=['accuracy'])\n",
    "    return model"
   ]
  },
  {
   "cell_type": "code",
   "execution_count": 34,
   "metadata": {},
   "outputs": [
    {
     "name": "stdout",
     "output_type": "stream",
     "text": [
      "Model: \"sequential_1\"\n",
      "_________________________________________________________________\n",
      " Layer (type)                Output Shape              Param #   \n",
      "=================================================================\n",
      " embedding (Embedding)       (None, 200, 200)          2969200   \n",
      "                                                                 \n",
      " lstm (LSTM)                 (None, 200)               320800    \n",
      "                                                                 \n",
      " dense_2 (Dense)             (None, 128)               25728     \n",
      "                                                                 \n",
      " dense_3 (Dense)             (None, 3)                 387       \n",
      "                                                                 \n",
      "=================================================================\n",
      "Total params: 3,316,115\n",
      "Trainable params: 3,316,115\n",
      "Non-trainable params: 0\n",
      "_________________________________________________________________\n"
     ]
    }
   ],
   "source": [
    "model_lstm = model_LSTM()\n",
    "model_lstm.summary()"
   ]
  },
  {
   "cell_type": "code",
   "execution_count": 35,
   "metadata": {},
   "outputs": [],
   "source": [
    "def model_CNN_LSTM():\n",
    "    model = Sequential()\n",
    "    model.add(e)\n",
    "    model.add(Conv1D(128, 7, activation='relu', padding='same'))\n",
    "    model.add(MaxPooling1D())\n",
    "    model.add(Conv1D(256, 5, activation='relu',padding='same'))\n",
    "    model.add(MaxPooling1D())\n",
    "    model.add(Conv1D(512, 3, activation='relu',padding='same'))\n",
    "    model.add(MaxPooling1D())\n",
    "    model.add(LSTM(embedding_dim))\n",
    "    model.add(Dense(128, activation='relu'))\n",
    "    model.add(Dense(3, activation='sigmoid'))\n",
    "    model.compile(loss='binary_crossentropy', optimizer='adam', metrics=['accuracy'])\n",
    "    return model"
   ]
  },
  {
   "cell_type": "code",
   "execution_count": 36,
   "metadata": {},
   "outputs": [
    {
     "name": "stdout",
     "output_type": "stream",
     "text": [
      "Model: \"sequential_2\"\n",
      "_________________________________________________________________\n",
      " Layer (type)                Output Shape              Param #   \n",
      "=================================================================\n",
      " embedding (Embedding)       (None, 200, 200)          2969200   \n",
      "                                                                 \n",
      " conv1d_3 (Conv1D)           (None, 200, 128)          179328    \n",
      "                                                                 \n",
      " max_pooling1d_3 (MaxPooling  (None, 100, 128)         0         \n",
      " 1D)                                                             \n",
      "                                                                 \n",
      " conv1d_4 (Conv1D)           (None, 100, 256)          164096    \n",
      "                                                                 \n",
      " max_pooling1d_4 (MaxPooling  (None, 50, 256)          0         \n",
      " 1D)                                                             \n",
      "                                                                 \n",
      " conv1d_5 (Conv1D)           (None, 50, 512)           393728    \n",
      "                                                                 \n",
      " max_pooling1d_5 (MaxPooling  (None, 25, 512)          0         \n",
      " 1D)                                                             \n",
      "                                                                 \n",
      " lstm_1 (LSTM)               (None, 200)               570400    \n",
      "                                                                 \n",
      " dense_4 (Dense)             (None, 128)               25728     \n",
      "                                                                 \n",
      " dense_5 (Dense)             (None, 3)                 387       \n",
      "                                                                 \n",
      "=================================================================\n",
      "Total params: 4,302,867\n",
      "Trainable params: 4,302,867\n",
      "Non-trainable params: 0\n",
      "_________________________________________________________________\n"
     ]
    }
   ],
   "source": [
    "model_cnn_lstm = model_CNN_LSTM()\n",
    "model_cnn_lstm.summary()"
   ]
  },
  {
   "cell_type": "code",
   "execution_count": 32,
   "metadata": {},
   "outputs": [],
   "source": [
    "def model_LSTM_CNN():\n",
    "    model = Sequential()\n",
    "    model.add(e)\n",
    "    model.add((LSTM(embedding_dim,return_sequences=True,dropout=0.25, recurrent_dropout=0.1)))\n",
    "    model.add(Conv1D(filters=128, kernel_size=7, padding='same', activation='relu', strides=1))\n",
    "    model.add(MaxPooling1D())\n",
    "    model.add(Conv1D(filters=256,kernel_size=5, activation='relu',padding='same',strides=1))\n",
    "    model.add(MaxPooling1D())\n",
    "    model.add(Conv1D(filters=512, kernel_size=3, activation='relu',padding='same',strides=1))\n",
    "    model.add(MaxPooling1D())\n",
    "    model.add(Flatten())\n",
    "    model.add(Dense(128, activation='relu'))\n",
    "    model.add(Dense(3, activation='sigmoid'))\n",
    "    model.compile(loss='binary_crossentropy', optimizer='adam',metrics=['accuracy'])\n",
    "    return model"
   ]
  },
  {
   "cell_type": "code",
   "execution_count": 33,
   "metadata": {},
   "outputs": [
    {
     "name": "stdout",
     "output_type": "stream",
     "text": [
      "Model: \"sequential\"\n",
      "_________________________________________________________________\n",
      " Layer (type)                Output Shape              Param #   \n",
      "=================================================================\n",
      " embedding (Embedding)       (None, 200, 200)          2969200   \n",
      "                                                                 \n",
      " lstm (LSTM)                 (None, 200, 200)          320800    \n",
      "                                                                 \n",
      " conv1d (Conv1D)             (None, 200, 128)          179328    \n",
      "                                                                 \n",
      " max_pooling1d (MaxPooling1D  (None, 100, 128)         0         \n",
      " )                                                               \n",
      "                                                                 \n",
      " conv1d_1 (Conv1D)           (None, 100, 256)          164096    \n",
      "                                                                 \n",
      " max_pooling1d_1 (MaxPooling  (None, 50, 256)          0         \n",
      " 1D)                                                             \n",
      "                                                                 \n",
      " conv1d_2 (Conv1D)           (None, 50, 512)           393728    \n",
      "                                                                 \n",
      " max_pooling1d_2 (MaxPooling  (None, 25, 512)          0         \n",
      " 1D)                                                             \n",
      "                                                                 \n",
      " flatten (Flatten)           (None, 12800)             0         \n",
      "                                                                 \n",
      " dense (Dense)               (None, 128)               1638528   \n",
      "                                                                 \n",
      " dense_1 (Dense)             (None, 3)                 387       \n",
      "                                                                 \n",
      "=================================================================\n",
      "Total params: 5,666,067\n",
      "Trainable params: 5,666,067\n",
      "Non-trainable params: 0\n",
      "_________________________________________________________________\n"
     ]
    }
   ],
   "source": [
    "model_lstm_cnn = model_LSTM_CNN()\n",
    "model_lstm_cnn.summary()"
   ]
  },
  {
   "cell_type": "code",
   "execution_count": 39,
   "metadata": {},
   "outputs": [
    {
     "name": "stdout",
     "output_type": "stream",
     "text": [
      "Epoch 1/5\n",
      "841/841 [==============================] - 234s 273ms/step - loss: 0.4098 - accuracy: 0.7187 - val_loss: 0.3896 - val_accuracy: 0.7256\n",
      "Epoch 2/5\n",
      "841/841 [==============================] - 259s 308ms/step - loss: 0.3551 - accuracy: 0.7639 - val_loss: 0.3658 - val_accuracy: 0.7453\n",
      "Epoch 3/5\n",
      "841/841 [==============================] - 258s 307ms/step - loss: 0.3201 - accuracy: 0.7892 - val_loss: 0.4016 - val_accuracy: 0.7322\n",
      "Epoch 4/5\n",
      "841/841 [==============================] - 257s 305ms/step - loss: 0.2930 - accuracy: 0.8098 - val_loss: 0.3985 - val_accuracy: 0.7327\n",
      "Epoch 5/5\n",
      "841/841 [==============================] - 250s 297ms/step - loss: 0.2680 - accuracy: 0.8299 - val_loss: 0.4485 - val_accuracy: 0.7275\n"
     ]
    }
   ],
   "source": [
    "callback_model = tf.keras.callbacks.ModelCheckpoint('./model/model_cnn.h5', monitor = 'val_loss')\n",
    "history = model_cnn.fit(\n",
    "    x = X_train, \n",
    "    y = y_train, \n",
    "    epochs = 5,\n",
    "    validation_data = (X_val, y_val), \n",
    "    callbacks = [callback_model]\n",
    ")"
   ]
  },
  {
   "cell_type": "code",
   "execution_count": 40,
   "metadata": {},
   "outputs": [
    {
     "data": {
      "image/png": "[encoded data removed]",
      "text/plain": [
       "<Figure size 640x480 with 1 Axes>"
      ]
     },
     "metadata": {},
     "output_type": "display_data"
    }
   ],
   "source": [
    "# summarize history for loss\n",
    "plt.plot(history.history['loss'])\n",
    "plt.plot(history.history['val_loss'])\n",
    "plt.title('model loss')\n",
    "plt.ylabel('loss')\n",
    "plt.xlabel('epoch')\n",
    "plt.legend(['train', 'val'], loc = 'upper left')\n",
    "plt.show()"
   ]
  },
  {
   "cell_type": "code",
   "execution_count": 41,
   "metadata": {},
   "outputs": [
    {
     "name": "stdout",
     "output_type": "stream",
     "text": [
      "94/94 [==============================] - 5s 52ms/step - loss: 0.4437 - accuracy: 0.7358\n"
     ]
    },
    {
     "data": {
      "text/plain": [
       "[0.44371506571769714, 0.735785961151123]"
      ]
     },
     "execution_count": 41,
     "metadata": {},
     "output_type": "execute_result"
    }
   ],
   "source": [
    "model_cnn.load_weights(\"./model/model_cnn.h5\")\n",
    "model_cnn.evaluate(X_test, y_test)"
   ]
  },
  {
   "cell_type": "code",
   "execution_count": 42,
   "metadata": {},
   "outputs": [
    {
     "name": "stdout",
     "output_type": "stream",
     "text": [
      "Epoch 1/5\n",
      "841/841 [==============================] - 601s 705ms/step - loss: 0.5523 - accuracy: 0.6101 - val_loss: 0.5557 - val_accuracy: 0.6025\n",
      "Epoch 2/5\n",
      "841/841 [==============================] - 611s 727ms/step - loss: 0.5507 - accuracy: 0.6100 - val_loss: 0.5559 - val_accuracy: 0.6025\n",
      "Epoch 3/5\n",
      "841/841 [==============================] - 553s 658ms/step - loss: 0.5511 - accuracy: 0.6100 - val_loss: 0.5554 - val_accuracy: 0.6023\n",
      "Epoch 4/5\n",
      "841/841 [==============================] - 613s 730ms/step - loss: 0.5507 - accuracy: 0.6101 - val_loss: 0.5582 - val_accuracy: 0.6025\n",
      "Epoch 5/5\n",
      "841/841 [==============================] - 495s 589ms/step - loss: 0.5502 - accuracy: 0.6102 - val_loss: 0.5567 - val_accuracy: 0.6025\n"
     ]
    }
   ],
   "source": [
    "callback_model = tf.keras.callbacks.ModelCheckpoint('./model/model_lstm.h5', monitor = 'val_loss')\n",
    "history = model_lstm.fit(\n",
    "    x = X_train, \n",
    "    y = y_train, \n",
    "    epochs = 5,\n",
    "    validation_data = (X_val, y_val), \n",
    "    callbacks = [callback_model]\n",
    ")"
   ]
  },
  {
   "cell_type": "code",
   "execution_count": null,
   "metadata": {},
   "outputs": [
    {
     "data": {
      "image/png": "[encoded data removed]",
      "text/plain": [
       "<Figure size 640x480 with 1 Axes>"
      ]
     },
     "metadata": {},
     "output_type": "display_data"
    }
   ],
   "source": [
    "# summarize history for loss\n",
    "plt.plot(history.history['loss'])\n",
    "plt.plot(history.history['val_loss'])\n",
    "plt.title('model loss')\n",
    "plt.ylabel('loss')\n",
    "plt.xlabel('epoch')\n",
    "plt.legend(['train', 'val'], loc = 'upper left')\n",
    "plt.show()"
   ]
  },
  {
   "cell_type": "code",
   "execution_count": null,
   "metadata": {},
   "outputs": [
    {
     "name": "stdout",
     "output_type": "stream",
     "text": [
      "94/94 [==============================] - 9s 91ms/step - loss: 0.5524 - accuracy: 0.6067\n"
     ]
    },
    {
     "data": {
      "text/plain": [
       "[0.5523689389228821, 0.6066889762878418]"
      ]
     },
     "execution_count": 44,
     "metadata": {},
     "output_type": "execute_result"
    }
   ],
   "source": [
    "model_lstm.load_weights(\"./model/model_lstm.h5\")\n",
    "model_lstm.evaluate(X_test, y_test)"
   ]
  },
  {
   "cell_type": "code",
   "execution_count": 45,
   "metadata": {},
   "outputs": [
    {
     "name": "stdout",
     "output_type": "stream",
     "text": [
      "Epoch 1/5\n",
      "841/841 [==============================] - 235s 277ms/step - loss: 0.5107 - accuracy: 0.6409 - val_loss: 0.4224 - val_accuracy: 0.7172\n",
      "Epoch 2/5\n",
      "841/841 [==============================] - 228s 271ms/step - loss: 0.3533 - accuracy: 0.7628 - val_loss: 0.4103 - val_accuracy: 0.7197\n",
      "Epoch 3/5\n",
      "841/841 [==============================] - 227s 270ms/step - loss: 0.3297 - accuracy: 0.7791 - val_loss: 0.4060 - val_accuracy: 0.7205\n",
      "Epoch 4/5\n",
      "841/841 [==============================] - 598s 712ms/step - loss: 0.3102 - accuracy: 0.7918 - val_loss: 0.4042 - val_accuracy: 0.7164\n",
      "Epoch 5/5\n",
      "841/841 [==============================] - 288s 343ms/step - loss: 0.2942 - accuracy: 0.8076 - val_loss: 0.4143 - val_accuracy: 0.6880\n"
     ]
    }
   ],
   "source": [
    "callback_model = tf.keras.callbacks.ModelCheckpoint('./model/model_cnn_lstm.h5', monitor = 'val_loss')\n",
    "history = model_cnn_lstm.fit(\n",
    "    x = X_train, \n",
    "    y = y_train, \n",
    "    epochs = 5,\n",
    "    validation_data = (X_val, y_val), \n",
    "    callbacks = [callback_model]\n",
    ")"
   ]
  },
  {
   "cell_type": "code",
   "execution_count": 46,
   "metadata": {},
   "outputs": [
    {
     "data": {
      "image/png": "[encoded data removed]",
      "text/plain": [
       "<Figure size 640x480 with 1 Axes>"
      ]
     },
     "metadata": {},
     "output_type": "display_data"
    }
   ],
   "source": [
    "# summarize history for loss\n",
    "plt.plot(history.history['loss'])\n",
    "plt.plot(history.history['val_loss'])\n",
    "plt.title('model loss')\n",
    "plt.ylabel('loss')\n",
    "plt.xlabel('epoch')\n",
    "plt.legend(['train', 'val'], loc = 'upper left')\n",
    "plt.show()"
   ]
  },
  {
   "cell_type": "code",
   "execution_count": 47,
   "metadata": {},
   "outputs": [
    {
     "name": "stdout",
     "output_type": "stream",
     "text": [
      "94/94 [==============================] - 7s 71ms/step - loss: 0.4236 - accuracy: 0.6846\n"
     ]
    },
    {
     "data": {
      "text/plain": [
       "[0.423624724149704, 0.6846153736114502]"
      ]
     },
     "execution_count": 47,
     "metadata": {},
     "output_type": "execute_result"
    }
   ],
   "source": [
    "model_cnn_lstm.load_weights(\"./model/model_cnn_lstm.h5\")\n",
    "model_cnn_lstm.evaluate(X_test, y_test)"
   ]
  },
  {
   "cell_type": "code",
   "execution_count": null,
   "metadata": {},
   "outputs": [],
   "source": [
    "callback_model = tf.keras.callbacks.ModelCheckpoint('./model/model_lstm_cnn.h5', monitor = 'val_loss')\n",
    "history = model_lstm_cnn.fit(\n",
    "    x = X_train, \n",
    "    y = y_train, \n",
    "    epochs = 5,\n",
    "    validation_data = (X_val, y_val), \n",
    "    callbacks = [callback_model]\n",
    ")"
   ]
  },
  {
   "cell_type": "code",
   "execution_count": null,
   "metadata": {},
   "outputs": [
    {
     "name": "stdout",
     "output_type": "stream",
     "text": [
      "79/79 [==============================] - 6s 77ms/step - loss: 0.6727 - accuracy: 0.7382\n"
     ]
    },
    {
     "data": {
      "text/plain": [
       "[0.6726672053337097, 0.73818039894104]"
      ]
     },
     "execution_count": 223,
     "metadata": {},
     "output_type": "execute_result"
    }
   ],
   "source": [
    "model_lstm_cnn.load_weights(\"./model/model_lstm_cnn.h5\")\n",
    "model_lstm_cnn.evaluate(X_test, y_test)"
   ]
  },
  {
   "cell_type": "code",
   "execution_count": null,
   "metadata": {},
   "outputs": [],
   "source": [
    "# summarize history for loss\n",
    "plt.plot(history.history['loss'])\n",
    "plt.plot(history.history['val_loss'])\n",
    "plt.title('model loss')\n",
    "plt.ylabel('loss')\n",
    "plt.xlabel('epoch')\n",
    "plt.legend(['train', 'val'], loc = 'upper left')\n",
    "plt.show()"
   ]
  },
  {
   "cell_type": "code",
   "execution_count": 237,
   "metadata": {},
   "outputs": [],
   "source": [
    "def preprocess (raw_input, tokenizer):\n",
    "    input_text_pre = list(tf.keras.preprocessing.text.text_to_word_sequence(raw_input))\n",
    "    input_text_pre = \" \".join(input_text_pre)\n",
    "    input_text_pre_accent = ViTokenizer.tokenize(input_text_pre)\n",
    "    # print(\"Text preprocessed: \", input_text_pre_accent)\n",
    "    tokenized_data_text = tokenizer.texts_to_sequences([input_text_pre_accent])\n",
    "    vec_data = pad_sequences(tokenized_data_text, padding = 'post', maxlen = 200)\n",
    "    return vec_data\n",
    "\n",
    "    "
   ]
  },
  {
   "cell_type": "code",
   "execution_count": 238,
   "metadata": {},
   "outputs": [],
   "source": [
    "def inference (input, model):\n",
    "    output = model(input).numpy()[0]\n",
    "    result = output.argmax()\n",
    "    conf = float(output.max())\n",
    "    label_dict = {'negative': -1, 'neutral': 0, 'positive': 1 }\n",
    "    label = list(label_dict.keys())\n",
    "    return label[int(result)], conf"
   ]
  },
  {
   "cell_type": "code",
   "execution_count": 235,
   "metadata": {},
   "outputs": [],
   "source": [
    "def prediction (raw_input, tokenizer, model):\n",
    "    input_model = preprocess(raw_input, tokenizer)\n",
    "    result, conf = inference(input_model, model)\n",
    "    return result"
   ]
  },
  {
   "cell_type": "code",
   "execution_count": 239,
   "metadata": {},
   "outputs": [
    {
     "name": "stdout",
     "output_type": "stream",
     "text": [
      "neutral\n"
     ]
    }
   ],
   "source": [
    "# my_model = model_LSTM_CNN()\n",
    "my_model = load_model('./model/model_lstm_cnn.h5')\n",
    "\n",
    "with open (\"tokenizer.pkl\", \"rb\") as input_file:\n",
    "    token = pickle.load(input_file)\n",
    "print(prediction('tuyệt vời', token, my_model))"
   ]
  },
  {
   "cell_type": "code",
   "execution_count": null,
   "metadata": {},
   "outputs": [],
   "source": []
  }
 ],
 "metadata": {
  "kernelspec": {
   "display_name": "Python 3",
   "language": "python",
   "name": "python3"
  },
  "language_info": {
   "codemirror_mode": {
    "name": "ipython",
    "version": 3
   },
   "file_extension": ".py",
   "mimetype": "text/x-python",
   "name": "python",
   "nbconvert_exporter": "python",
   "pygments_lexer": "ipython3",
   "version": "3.10.4"
  },
  "vscode": {
   "interpreter": {
    "hash": "de9d2fc0fcf3bb1d8ee39e27f93e67224e49ba8b5f9fa507307100040ebd455d"
   }
  }
 },
 "nbformat": 4,
 "nbformat_minor": 4
}
